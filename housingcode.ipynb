{
 "cells": [
  {
   "cell_type": "code",
   "execution_count": 1,
   "id": "a7582639",
   "metadata": {
    "_cell_guid": "b1076dfc-b9ad-4769-8c92-a6c4dae69d19",
    "_uuid": "8f2839f25d086af736a60e9eeb907d3b93b6e0e5",
    "execution": {
     "iopub.execute_input": "2025-05-13T00:55:41.221226Z",
     "iopub.status.busy": "2025-05-13T00:55:41.220838Z",
     "iopub.status.idle": "2025-05-13T00:55:41.230525Z",
     "shell.execute_reply": "2025-05-13T00:55:41.229586Z"
    },
    "papermill": {
     "duration": 0.015592,
     "end_time": "2025-05-13T00:55:41.232057",
     "exception": false,
     "start_time": "2025-05-13T00:55:41.216465",
     "status": "completed"
    },
    "tags": []
   },
   "outputs": [
    {
     "name": "stdout",
     "output_type": "stream",
     "text": [
      "/kaggle/input/home-data-for-ml-course/sample_submission.csv\n",
      "/kaggle/input/home-data-for-ml-course/sample_submission.csv.gz\n",
      "/kaggle/input/home-data-for-ml-course/train.csv.gz\n",
      "/kaggle/input/home-data-for-ml-course/data_description.txt\n",
      "/kaggle/input/home-data-for-ml-course/test.csv.gz\n",
      "/kaggle/input/home-data-for-ml-course/train.csv\n",
      "/kaggle/input/home-data-for-ml-course/test.csv\n"
     ]
    }
   ],
   "source": [
    "import os\n",
    "for dirname, _, filenames in os.walk('/kaggle/input'):\n",
    "    for filename in filenames:\n",
    "        print(os.path.join(dirname, filename))\n",
    "\n",
    "\n",
    "# for i in \n",
    "# print(data.columns)\n",
    "# You can write up to 20GB to the current directory (/kaggle/working/) that gets preserved as output when you create a version using \"Save & Run All\" \n",
    "# You can also write temporary files to /kaggle/temp/, but they won't be saved outside of the current session"
   ]
  },
  {
   "cell_type": "code",
   "execution_count": null,
   "id": "6d325d02",
   "metadata": {
    "papermill": {
     "duration": 0.001756,
     "end_time": "2025-05-13T00:55:41.236308",
     "exception": false,
     "start_time": "2025-05-13T00:55:41.234552",
     "status": "completed"
    },
    "tags": []
   },
   "outputs": [],
   "source": []
  },
  {
   "cell_type": "code",
   "execution_count": 2,
   "id": "b4a191d4",
   "metadata": {
    "execution": {
     "iopub.execute_input": "2025-05-13T00:55:41.241981Z",
     "iopub.status.busy": "2025-05-13T00:55:41.241070Z",
     "iopub.status.idle": "2025-05-13T00:55:44.866931Z",
     "shell.execute_reply": "2025-05-13T00:55:44.865977Z"
    },
    "papermill": {
     "duration": 3.63048,
     "end_time": "2025-05-13T00:55:44.868713",
     "exception": false,
     "start_time": "2025-05-13T00:55:41.238233",
     "status": "completed"
    },
    "tags": []
   },
   "outputs": [],
   "source": [
    "import pandas as pd\n",
    "from sklearn.linear_model import LinearRegression\n",
    "from copy import deepcopy\n",
    "train_data = pd.read_csv(\"/kaggle/input/home-data-for-ml-course/train.csv\")\n",
    "test_data = pd.read_csv(\"/kaggle/input/home-data-for-ml-course/test.csv\")\n",
    "train_data_sub = deepcopy(train_data[['MSSubClass', 'LotFrontage','SalePrice']])\n",
    "train_data_sub = train_data_sub.fillna(train_data_sub.mean())\n",
    "x_train, y_train = train_data_sub.to_numpy()[0:,:-1], train_data_sub.to_numpy()[:,-1]\n",
    "y_train\n",
    "\n",
    "\n",
    "    \n",
    "lr = LinearRegression().fit(x_train, y_train)\n",
    "lr.coef_\n",
    "\n",
    "lr.intercept_\n",
    "\n",
    "train_data_sub['Predictions'] = lr.predict(x_train)\n",
    "\n",
    "\n"
   ]
  },
  {
   "cell_type": "code",
   "execution_count": 3,
   "id": "5242357b",
   "metadata": {
    "execution": {
     "iopub.execute_input": "2025-05-13T00:55:44.873838Z",
     "iopub.status.busy": "2025-05-13T00:55:44.873564Z",
     "iopub.status.idle": "2025-05-13T00:55:44.879807Z",
     "shell.execute_reply": "2025-05-13T00:55:44.878984Z"
    },
    "papermill": {
     "duration": 0.01044,
     "end_time": "2025-05-13T00:55:44.881238",
     "exception": false,
     "start_time": "2025-05-13T00:55:44.870798",
     "status": "completed"
    },
    "tags": []
   },
   "outputs": [
    {
     "name": "stdout",
     "output_type": "stream",
     "text": [
      "54381.25047406032\n"
     ]
    }
   ],
   "source": [
    "from sklearn.metrics import mean_absolute_error\n",
    "mean_absolute_error = mean_absolute_error(train_data_sub['Predictions'], \n",
    "                                          train_data_sub['SalePrice'])\n",
    "print(mean_absolute_error)"
   ]
  },
  {
   "cell_type": "code",
   "execution_count": 4,
   "id": "9aaab67a",
   "metadata": {
    "execution": {
     "iopub.execute_input": "2025-05-13T00:55:44.886314Z",
     "iopub.status.busy": "2025-05-13T00:55:44.886039Z",
     "iopub.status.idle": "2025-05-13T00:55:44.895707Z",
     "shell.execute_reply": "2025-05-13T00:55:44.894789Z"
    },
    "papermill": {
     "duration": 0.013934,
     "end_time": "2025-05-13T00:55:44.897242",
     "exception": false,
     "start_time": "2025-05-13T00:55:44.883308",
     "status": "completed"
    },
    "tags": []
   },
   "outputs": [
    {
     "name": "stdout",
     "output_type": "stream",
     "text": [
      "1459\n",
      "1459\n",
      "[[ 20.  80.]\n",
      " [ 20.  81.]\n",
      " [ 60.  74.]\n",
      " ...\n",
      " [ 20. 160.]\n",
      " [ 85.  62.]\n",
      " [ 60.  74.]]\n"
     ]
    }
   ],
   "source": [
    "test_data_sub = test_data[['MSSubClass', 'LotFrontage']]\n",
    "test_data_sub = test_data_sub.fillna(test_data_sub.mean())\n",
    "test_data_sub = test_data_sub.to_numpy()\n",
    "test_predictions = lr.predict(test_data_sub)\n",
    "# print(test_predictions)\n",
    "print(len(test_predictions))\n",
    "print(len(test_data_sub))\n",
    "print(test_data_sub)\n",
    "\n"
   ]
  },
  {
   "cell_type": "code",
   "execution_count": 5,
   "id": "25c9cc42",
   "metadata": {
    "execution": {
     "iopub.execute_input": "2025-05-13T00:55:44.903196Z",
     "iopub.status.busy": "2025-05-13T00:55:44.902402Z",
     "iopub.status.idle": "2025-05-13T00:55:44.916696Z",
     "shell.execute_reply": "2025-05-13T00:55:44.915964Z"
    },
    "papermill": {
     "duration": 0.018736,
     "end_time": "2025-05-13T00:55:44.918230",
     "exception": false,
     "start_time": "2025-05-13T00:55:44.899494",
     "status": "completed"
    },
    "tags": []
   },
   "outputs": [],
   "source": [
    "final_df = test_data\n",
    "final_df['Prediction'] = test_predictions\n",
    "final_df = final_df[['Id','Prediction']]\n",
    "final_df.to_csv('linear_prediction.csv', index = False)\n"
   ]
  }
 ],
 "metadata": {
  "kaggle": {
   "accelerator": "none",
   "dataSources": [
    {
     "databundleVersionId": 111096,
     "sourceId": 10211,
     "sourceType": "competition"
    }
   ],
   "dockerImageVersionId": 31012,
   "isGpuEnabled": false,
   "isInternetEnabled": true,
   "language": "python",
   "sourceType": "notebook"
  },
  "kernelspec": {
   "display_name": "Python 3",
   "language": "python",
   "name": "python3"
  },
  "language_info": {
   "codemirror_mode": {
    "name": "ipython",
    "version": 3
   },
   "file_extension": ".py",
   "mimetype": "text/x-python",
   "name": "python",
   "nbconvert_exporter": "python",
   "pygments_lexer": "ipython3",
   "version": "3.11.11"
  },
  "papermill": {
   "default_parameters": {},
   "duration": 9.638391,
   "end_time": "2025-05-13T00:55:45.539568",
   "environment_variables": {},
   "exception": null,
   "input_path": "__notebook__.ipynb",
   "output_path": "__notebook__.ipynb",
   "parameters": {},
   "start_time": "2025-05-13T00:55:35.901177",
   "version": "2.6.0"
  }
 },
 "nbformat": 4,
 "nbformat_minor": 5
}
